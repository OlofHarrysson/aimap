{
 "metadata": {
  "language_info": {
   "codemirror_mode": {
    "name": "ipython",
    "version": 3
   },
   "file_extension": ".py",
   "mimetype": "text/x-python",
   "name": "python",
   "nbconvert_exporter": "python",
   "pygments_lexer": "ipython3",
   "version": "3.8.5-final"
  },
  "orig_nbformat": 2,
  "kernelspec": {
   "name": "python3",
   "display_name": "Python 3.8.5 64-bit ('map': conda)",
   "metadata": {
    "interpreter": {
     "hash": "dc82af51567a51236101bb9fcbda6c6cc4215a70f6368f95bfc5cd5fd85a6ae5"
    }
   }
  }
 },
 "nbformat": 4,
 "nbformat_minor": 2,
 "cells": [
  {
   "cell_type": "code",
   "execution_count": 1,
   "metadata": {},
   "outputs": [],
   "source": [
    "import gmaps\n",
    "from google_utils import read_api_key, get_location\n",
    "from company_manager import CompanyManager\n",
    "import json"
   ]
  },
  {
   "cell_type": "code",
   "execution_count": 2,
   "metadata": {
    "tags": []
   },
   "outputs": [
    {
     "output_type": "display_data",
     "data": {
      "text/plain": "Figure(layout=FigureLayout(height='420px'))",
      "application/vnd.jupyter.widget-view+json": {
       "version_major": 2,
       "version_minor": 0,
       "model_id": "855d961119c7473c919f683bc4179505"
      }
     },
     "metadata": {}
    }
   ],
   "source": [
    "company_manager = CompanyManager()\n",
    "\n",
    "def create_marker_locations(company_manager):  \n",
    "    markers = []\n",
    "    marker_info = []\n",
    "    i = 0\n",
    "    for company_name, company_info in company_manager.companies.items():\n",
    "        if i == 4:\n",
    "            pass\n",
    "            #break\n",
    "        i += 1\n",
    "        \n",
    "        location = company_manager.get_location(company_name)\n",
    "\n",
    "        if not location:\n",
    "            location = get_location(company_name)\n",
    "            company_manager.add_location(company_name, location)\n",
    "\n",
    "        if location is not None:\n",
    "            markers.append((location['lat'], location['lng']))\n",
    "            marker_info.append(company_info)\n",
    "    \n",
    "    return markers, marker_info\n",
    "\n",
    "gmaps.configure(api_key=read_api_key())\n",
    "\n",
    "marker_locations, marker_info = create_marker_locations(company_manager)\n",
    "\n",
    "info_box_template = \"\"\"\n",
    "<dl>\n",
    "<dt>Name</dt><dd>{name}</dd>\n",
    "<dt>Website</dt><dd><a href=\"{website}\">{website}</a></dd>\n",
    "</dl>\n",
    "\"\"\"\n",
    "\n",
    "marker_info = [info_box_template.format(**comp) for comp in marker_info]\n",
    "fig = gmaps.figure()\n",
    "markers = gmaps.marker_layer(marker_locations, info_box_content=marker_info)\n",
    "fig.add_layer(markers)\n",
    "fig"
   ]
  },
  {
   "cell_type": "code",
   "execution_count": null,
   "metadata": {},
   "outputs": [],
   "source": []
  }
 ]
}