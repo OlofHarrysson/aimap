{
 "metadata": {
  "language_info": {
   "codemirror_mode": {
    "name": "ipython",
    "version": 3
   },
   "file_extension": ".py",
   "mimetype": "text/x-python",
   "name": "python",
   "nbconvert_exporter": "python",
   "pygments_lexer": "ipython3",
   "version": "3.8.5-final"
  },
  "orig_nbformat": 2,
  "kernelspec": {
   "name": "python3",
   "display_name": "Python 3.8.5 64-bit ('map': conda)",
   "metadata": {
    "interpreter": {
     "hash": "dc82af51567a51236101bb9fcbda6c6cc4215a70f6368f95bfc5cd5fd85a6ae5"
    }
   }
  }
 },
 "nbformat": 4,
 "nbformat_minor": 2,
 "cells": [
  {
   "cell_type": "code",
   "execution_count": 2,
   "metadata": {},
   "outputs": [
    {
     "output_type": "display_data",
     "data": {
      "text/plain": "Figure(layout=FigureLayout(height='420px'))",
      "application/vnd.jupyter.widget-view+json": {
       "version_major": 2,
       "version_minor": 0,
       "model_id": "fccb4efe168a4b4ebc648add163f260a"
      }
     },
     "metadata": {}
    }
   ],
   "source": [
    "import gmaps\n",
    "from google_utils import read_api_key\n",
    "gmaps.configure(api_key=read_api_key())\n",
    "\n",
    "marker_locations = [(-34.0, -59.166672), (-32.23333, -64.433327),\n",
    "                    (40.166672, 44.133331), (51.216671, 5.0833302),\n",
    "                    (51.333328, 4.25)]\n",
    "\n",
    "fig = gmaps.figure()\n",
    "markers = gmaps.marker_layer(marker_locations)\n",
    "fig.add_layer(markers)\n",
    "fig"
   ]
  },
  {
   "cell_type": "code",
   "execution_count": 5,
   "metadata": {},
   "outputs": [],
   "source": [
    "a = 2"
   ]
  },
  {
   "cell_type": "code",
   "execution_count": 6,
   "metadata": {},
   "outputs": [
    {
     "output_type": "execute_result",
     "data": {
      "text/plain": [
       "2"
      ]
     },
     "metadata": {},
     "execution_count": 6
    }
   ],
   "source": [
    "a"
   ]
  },
  {
   "cell_type": "code",
   "execution_count": null,
   "metadata": {},
   "outputs": [],
   "source": []
  }
 ]
}